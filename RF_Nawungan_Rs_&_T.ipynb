{
  "nbformat": 4,
  "nbformat_minor": 0,
  "metadata": {
    "colab": {
      "provenance": [],
      "authorship_tag": "ABX9TyMlsjOa7Om7YtfFhwpsstNY",
      "include_colab_link": true
    },
    "kernelspec": {
      "name": "python3",
      "display_name": "Python 3"
    },
    "language_info": {
      "name": "python"
    }
  },
  "cells": [
    {
      "cell_type": "markdown",
      "metadata": {
        "id": "view-in-github",
        "colab_type": "text"
      },
      "source": [
        "<a href=\"https://colab.research.google.com/github/Aprilianiput21/TA_Model-ETp/blob/main/RF_Nawungan_Rs_%26_T.ipynb\" target=\"_parent\"><img src=\"https://colab.research.google.com/assets/colab-badge.svg\" alt=\"Open In Colab\"/></a>"
      ]
    },
    {
      "cell_type": "markdown",
      "source": [
        "**ESTIMASI ETP DENGAN ALGORITMA RANDOM FOREST**\n",
        "\n",
        "Data AWS Nawungan\n",
        "Data Masukan : Suhu dan Radiasi Matahari"
      ],
      "metadata": {
        "id": "Fdqe7F0w520e"
      }
    },
    {
      "cell_type": "code",
      "execution_count": 1,
      "metadata": {
        "id": "isnGHEg-5vp9"
      },
      "outputs": [],
      "source": [
        "#Import Library\n",
        "import pandas as pd\n",
        "import numpy as np\n",
        "from sklearn.ensemble import RandomForestRegressor\n",
        "from sklearn.model_selection import train_test_split\n",
        "from sklearn. metrics import mean_squared_error, r2_score"
      ]
    },
    {
      "cell_type": "code",
      "source": [
        "#Load data fitur dan data target\n",
        "df = pd.read_excel('/content/Nawungan_15 Minutes_PM.xlsx')\n",
        "df = df.drop(0)\n",
        "df = df.drop(1)\n",
        "df.head()"
      ],
      "metadata": {
        "colab": {
          "base_uri": "https://localhost:8080/",
          "height": 446
        },
        "id": "bj9G5J3h58vN",
        "outputId": "23452a43-15b9-4772-d6d1-f2ba2ed9f460"
      },
      "execution_count": 2,
      "outputs": [
        {
          "output_type": "execute_result",
          "data": {
            "text/plain": [
              "                  Date  Year DOY   Time      T     RH    U          Rs  \\\n",
              "2  2019-03-23 13:45:00  2019  82  13.75  35.33   98.1  0.6  495.300293   \n",
              "3  2019-03-23 14:00:00  2019  82     14   35.2  98.07  0.6   476.44043   \n",
              "4  2019-03-23 14:15:00  2019  82  14.25  35.56   98.1  0.8   564.51416   \n",
              "5  2019-03-23 14:30:00  2019  82   14.5  34.94   98.1  0.9  493.835449   \n",
              "6  2019-03-23 14:45:00  2019  82  14.75  34.51  98.08  0.5   322.08252   \n",
              "\n",
              "        Dec        dr  ...         ρ Cp          ra          G  rc  \\\n",
              "2  0.012626  1.005232  ...  1253.501011  322.091168  38.924002  69   \n",
              "3  0.012626  1.005232  ...  1252.053277  322.091168  37.458473  69   \n",
              "4  0.012626  1.005232  ...  1251.928438  241.568376  44.276054  69   \n",
              "5  0.012626  1.005232  ...  1249.215979  214.727445  38.773533  69   \n",
              "6  0.012626  1.005232  ...  1247.027952  386.509401  25.507475  69   \n",
              "\n",
              "           LE      LE.1        ET Unnamed: 28 Unnamed: 29 Unnamed: 30  \n",
              "2  288.429159  1.038345  0.423814           h    0.120000           m  \n",
              "3  277.162717  0.997786   0.40726      rc day   69.000000         s/m  \n",
              "4  325.377537  1.171359  0.478106    rc night  690.000000         s/m  \n",
              "5  281.796996  1.014469  0.414069   Latitude    -7.964911     degrees  \n",
              "6   188.38674  0.678192  0.276813   Longitude  110.405090     degrees  \n",
              "\n",
              "[5 rows x 31 columns]"
            ],
            "text/html": [
              "\n",
              "  <div id=\"df-24a4e1d4-a618-4f9c-97b8-4b3606543473\" class=\"colab-df-container\">\n",
              "    <div>\n",
              "<style scoped>\n",
              "    .dataframe tbody tr th:only-of-type {\n",
              "        vertical-align: middle;\n",
              "    }\n",
              "\n",
              "    .dataframe tbody tr th {\n",
              "        vertical-align: top;\n",
              "    }\n",
              "\n",
              "    .dataframe thead th {\n",
              "        text-align: right;\n",
              "    }\n",
              "</style>\n",
              "<table border=\"1\" class=\"dataframe\">\n",
              "  <thead>\n",
              "    <tr style=\"text-align: right;\">\n",
              "      <th></th>\n",
              "      <th>Date</th>\n",
              "      <th>Year</th>\n",
              "      <th>DOY</th>\n",
              "      <th>Time</th>\n",
              "      <th>T</th>\n",
              "      <th>RH</th>\n",
              "      <th>U</th>\n",
              "      <th>Rs</th>\n",
              "      <th>Dec</th>\n",
              "      <th>dr</th>\n",
              "      <th>...</th>\n",
              "      <th>ρ Cp</th>\n",
              "      <th>ra</th>\n",
              "      <th>G</th>\n",
              "      <th>rc</th>\n",
              "      <th>LE</th>\n",
              "      <th>LE.1</th>\n",
              "      <th>ET</th>\n",
              "      <th>Unnamed: 28</th>\n",
              "      <th>Unnamed: 29</th>\n",
              "      <th>Unnamed: 30</th>\n",
              "    </tr>\n",
              "  </thead>\n",
              "  <tbody>\n",
              "    <tr>\n",
              "      <th>2</th>\n",
              "      <td>2019-03-23 13:45:00</td>\n",
              "      <td>2019</td>\n",
              "      <td>82</td>\n",
              "      <td>13.75</td>\n",
              "      <td>35.33</td>\n",
              "      <td>98.1</td>\n",
              "      <td>0.6</td>\n",
              "      <td>495.300293</td>\n",
              "      <td>0.012626</td>\n",
              "      <td>1.005232</td>\n",
              "      <td>...</td>\n",
              "      <td>1253.501011</td>\n",
              "      <td>322.091168</td>\n",
              "      <td>38.924002</td>\n",
              "      <td>69</td>\n",
              "      <td>288.429159</td>\n",
              "      <td>1.038345</td>\n",
              "      <td>0.423814</td>\n",
              "      <td>h</td>\n",
              "      <td>0.120000</td>\n",
              "      <td>m</td>\n",
              "    </tr>\n",
              "    <tr>\n",
              "      <th>3</th>\n",
              "      <td>2019-03-23 14:00:00</td>\n",
              "      <td>2019</td>\n",
              "      <td>82</td>\n",
              "      <td>14</td>\n",
              "      <td>35.2</td>\n",
              "      <td>98.07</td>\n",
              "      <td>0.6</td>\n",
              "      <td>476.44043</td>\n",
              "      <td>0.012626</td>\n",
              "      <td>1.005232</td>\n",
              "      <td>...</td>\n",
              "      <td>1252.053277</td>\n",
              "      <td>322.091168</td>\n",
              "      <td>37.458473</td>\n",
              "      <td>69</td>\n",
              "      <td>277.162717</td>\n",
              "      <td>0.997786</td>\n",
              "      <td>0.40726</td>\n",
              "      <td>rc day</td>\n",
              "      <td>69.000000</td>\n",
              "      <td>s/m</td>\n",
              "    </tr>\n",
              "    <tr>\n",
              "      <th>4</th>\n",
              "      <td>2019-03-23 14:15:00</td>\n",
              "      <td>2019</td>\n",
              "      <td>82</td>\n",
              "      <td>14.25</td>\n",
              "      <td>35.56</td>\n",
              "      <td>98.1</td>\n",
              "      <td>0.8</td>\n",
              "      <td>564.51416</td>\n",
              "      <td>0.012626</td>\n",
              "      <td>1.005232</td>\n",
              "      <td>...</td>\n",
              "      <td>1251.928438</td>\n",
              "      <td>241.568376</td>\n",
              "      <td>44.276054</td>\n",
              "      <td>69</td>\n",
              "      <td>325.377537</td>\n",
              "      <td>1.171359</td>\n",
              "      <td>0.478106</td>\n",
              "      <td>rc night</td>\n",
              "      <td>690.000000</td>\n",
              "      <td>s/m</td>\n",
              "    </tr>\n",
              "    <tr>\n",
              "      <th>5</th>\n",
              "      <td>2019-03-23 14:30:00</td>\n",
              "      <td>2019</td>\n",
              "      <td>82</td>\n",
              "      <td>14.5</td>\n",
              "      <td>34.94</td>\n",
              "      <td>98.1</td>\n",
              "      <td>0.9</td>\n",
              "      <td>493.835449</td>\n",
              "      <td>0.012626</td>\n",
              "      <td>1.005232</td>\n",
              "      <td>...</td>\n",
              "      <td>1249.215979</td>\n",
              "      <td>214.727445</td>\n",
              "      <td>38.773533</td>\n",
              "      <td>69</td>\n",
              "      <td>281.796996</td>\n",
              "      <td>1.014469</td>\n",
              "      <td>0.414069</td>\n",
              "      <td>Latitude</td>\n",
              "      <td>-7.964911</td>\n",
              "      <td>degrees</td>\n",
              "    </tr>\n",
              "    <tr>\n",
              "      <th>6</th>\n",
              "      <td>2019-03-23 14:45:00</td>\n",
              "      <td>2019</td>\n",
              "      <td>82</td>\n",
              "      <td>14.75</td>\n",
              "      <td>34.51</td>\n",
              "      <td>98.08</td>\n",
              "      <td>0.5</td>\n",
              "      <td>322.08252</td>\n",
              "      <td>0.012626</td>\n",
              "      <td>1.005232</td>\n",
              "      <td>...</td>\n",
              "      <td>1247.027952</td>\n",
              "      <td>386.509401</td>\n",
              "      <td>25.507475</td>\n",
              "      <td>69</td>\n",
              "      <td>188.38674</td>\n",
              "      <td>0.678192</td>\n",
              "      <td>0.276813</td>\n",
              "      <td>Longitude</td>\n",
              "      <td>110.405090</td>\n",
              "      <td>degrees</td>\n",
              "    </tr>\n",
              "  </tbody>\n",
              "</table>\n",
              "<p>5 rows × 31 columns</p>\n",
              "</div>\n",
              "    <div class=\"colab-df-buttons\">\n",
              "\n",
              "  <div class=\"colab-df-container\">\n",
              "    <button class=\"colab-df-convert\" onclick=\"convertToInteractive('df-24a4e1d4-a618-4f9c-97b8-4b3606543473')\"\n",
              "            title=\"Convert this dataframe to an interactive table.\"\n",
              "            style=\"display:none;\">\n",
              "\n",
              "  <svg xmlns=\"http://www.w3.org/2000/svg\" height=\"24px\" viewBox=\"0 -960 960 960\">\n",
              "    <path d=\"M120-120v-720h720v720H120Zm60-500h600v-160H180v160Zm220 220h160v-160H400v160Zm0 220h160v-160H400v160ZM180-400h160v-160H180v160Zm440 0h160v-160H620v160ZM180-180h160v-160H180v160Zm440 0h160v-160H620v160Z\"/>\n",
              "  </svg>\n",
              "    </button>\n",
              "\n",
              "  <style>\n",
              "    .colab-df-container {\n",
              "      display:flex;\n",
              "      gap: 12px;\n",
              "    }\n",
              "\n",
              "    .colab-df-convert {\n",
              "      background-color: #E8F0FE;\n",
              "      border: none;\n",
              "      border-radius: 50%;\n",
              "      cursor: pointer;\n",
              "      display: none;\n",
              "      fill: #1967D2;\n",
              "      height: 32px;\n",
              "      padding: 0 0 0 0;\n",
              "      width: 32px;\n",
              "    }\n",
              "\n",
              "    .colab-df-convert:hover {\n",
              "      background-color: #E2EBFA;\n",
              "      box-shadow: 0px 1px 2px rgba(60, 64, 67, 0.3), 0px 1px 3px 1px rgba(60, 64, 67, 0.15);\n",
              "      fill: #174EA6;\n",
              "    }\n",
              "\n",
              "    .colab-df-buttons div {\n",
              "      margin-bottom: 4px;\n",
              "    }\n",
              "\n",
              "    [theme=dark] .colab-df-convert {\n",
              "      background-color: #3B4455;\n",
              "      fill: #D2E3FC;\n",
              "    }\n",
              "\n",
              "    [theme=dark] .colab-df-convert:hover {\n",
              "      background-color: #434B5C;\n",
              "      box-shadow: 0px 1px 3px 1px rgba(0, 0, 0, 0.15);\n",
              "      filter: drop-shadow(0px 1px 2px rgba(0, 0, 0, 0.3));\n",
              "      fill: #FFFFFF;\n",
              "    }\n",
              "  </style>\n",
              "\n",
              "    <script>\n",
              "      const buttonEl =\n",
              "        document.querySelector('#df-24a4e1d4-a618-4f9c-97b8-4b3606543473 button.colab-df-convert');\n",
              "      buttonEl.style.display =\n",
              "        google.colab.kernel.accessAllowed ? 'block' : 'none';\n",
              "\n",
              "      async function convertToInteractive(key) {\n",
              "        const element = document.querySelector('#df-24a4e1d4-a618-4f9c-97b8-4b3606543473');\n",
              "        const dataTable =\n",
              "          await google.colab.kernel.invokeFunction('convertToInteractive',\n",
              "                                                    [key], {});\n",
              "        if (!dataTable) return;\n",
              "\n",
              "        const docLinkHtml = 'Like what you see? Visit the ' +\n",
              "          '<a target=\"_blank\" href=https://colab.research.google.com/notebooks/data_table.ipynb>data table notebook</a>'\n",
              "          + ' to learn more about interactive tables.';\n",
              "        element.innerHTML = '';\n",
              "        dataTable['output_type'] = 'display_data';\n",
              "        await google.colab.output.renderOutput(dataTable, element);\n",
              "        const docLink = document.createElement('div');\n",
              "        docLink.innerHTML = docLinkHtml;\n",
              "        element.appendChild(docLink);\n",
              "      }\n",
              "    </script>\n",
              "  </div>\n",
              "\n",
              "\n",
              "<div id=\"df-93040589-7f77-4100-a68c-67e513dbe082\">\n",
              "  <button class=\"colab-df-quickchart\" onclick=\"quickchart('df-93040589-7f77-4100-a68c-67e513dbe082')\"\n",
              "            title=\"Suggest charts\"\n",
              "            style=\"display:none;\">\n",
              "\n",
              "<svg xmlns=\"http://www.w3.org/2000/svg\" height=\"24px\"viewBox=\"0 0 24 24\"\n",
              "     width=\"24px\">\n",
              "    <g>\n",
              "        <path d=\"M19 3H5c-1.1 0-2 .9-2 2v14c0 1.1.9 2 2 2h14c1.1 0 2-.9 2-2V5c0-1.1-.9-2-2-2zM9 17H7v-7h2v7zm4 0h-2V7h2v10zm4 0h-2v-4h2v4z\"/>\n",
              "    </g>\n",
              "</svg>\n",
              "  </button>\n",
              "\n",
              "<style>\n",
              "  .colab-df-quickchart {\n",
              "      --bg-color: #E8F0FE;\n",
              "      --fill-color: #1967D2;\n",
              "      --hover-bg-color: #E2EBFA;\n",
              "      --hover-fill-color: #174EA6;\n",
              "      --disabled-fill-color: #AAA;\n",
              "      --disabled-bg-color: #DDD;\n",
              "  }\n",
              "\n",
              "  [theme=dark] .colab-df-quickchart {\n",
              "      --bg-color: #3B4455;\n",
              "      --fill-color: #D2E3FC;\n",
              "      --hover-bg-color: #434B5C;\n",
              "      --hover-fill-color: #FFFFFF;\n",
              "      --disabled-bg-color: #3B4455;\n",
              "      --disabled-fill-color: #666;\n",
              "  }\n",
              "\n",
              "  .colab-df-quickchart {\n",
              "    background-color: var(--bg-color);\n",
              "    border: none;\n",
              "    border-radius: 50%;\n",
              "    cursor: pointer;\n",
              "    display: none;\n",
              "    fill: var(--fill-color);\n",
              "    height: 32px;\n",
              "    padding: 0;\n",
              "    width: 32px;\n",
              "  }\n",
              "\n",
              "  .colab-df-quickchart:hover {\n",
              "    background-color: var(--hover-bg-color);\n",
              "    box-shadow: 0 1px 2px rgba(60, 64, 67, 0.3), 0 1px 3px 1px rgba(60, 64, 67, 0.15);\n",
              "    fill: var(--button-hover-fill-color);\n",
              "  }\n",
              "\n",
              "  .colab-df-quickchart-complete:disabled,\n",
              "  .colab-df-quickchart-complete:disabled:hover {\n",
              "    background-color: var(--disabled-bg-color);\n",
              "    fill: var(--disabled-fill-color);\n",
              "    box-shadow: none;\n",
              "  }\n",
              "\n",
              "  .colab-df-spinner {\n",
              "    border: 2px solid var(--fill-color);\n",
              "    border-color: transparent;\n",
              "    border-bottom-color: var(--fill-color);\n",
              "    animation:\n",
              "      spin 1s steps(1) infinite;\n",
              "  }\n",
              "\n",
              "  @keyframes spin {\n",
              "    0% {\n",
              "      border-color: transparent;\n",
              "      border-bottom-color: var(--fill-color);\n",
              "      border-left-color: var(--fill-color);\n",
              "    }\n",
              "    20% {\n",
              "      border-color: transparent;\n",
              "      border-left-color: var(--fill-color);\n",
              "      border-top-color: var(--fill-color);\n",
              "    }\n",
              "    30% {\n",
              "      border-color: transparent;\n",
              "      border-left-color: var(--fill-color);\n",
              "      border-top-color: var(--fill-color);\n",
              "      border-right-color: var(--fill-color);\n",
              "    }\n",
              "    40% {\n",
              "      border-color: transparent;\n",
              "      border-right-color: var(--fill-color);\n",
              "      border-top-color: var(--fill-color);\n",
              "    }\n",
              "    60% {\n",
              "      border-color: transparent;\n",
              "      border-right-color: var(--fill-color);\n",
              "    }\n",
              "    80% {\n",
              "      border-color: transparent;\n",
              "      border-right-color: var(--fill-color);\n",
              "      border-bottom-color: var(--fill-color);\n",
              "    }\n",
              "    90% {\n",
              "      border-color: transparent;\n",
              "      border-bottom-color: var(--fill-color);\n",
              "    }\n",
              "  }\n",
              "</style>\n",
              "\n",
              "  <script>\n",
              "    async function quickchart(key) {\n",
              "      const quickchartButtonEl =\n",
              "        document.querySelector('#' + key + ' button');\n",
              "      quickchartButtonEl.disabled = true;  // To prevent multiple clicks.\n",
              "      quickchartButtonEl.classList.add('colab-df-spinner');\n",
              "      try {\n",
              "        const charts = await google.colab.kernel.invokeFunction(\n",
              "            'suggestCharts', [key], {});\n",
              "      } catch (error) {\n",
              "        console.error('Error during call to suggestCharts:', error);\n",
              "      }\n",
              "      quickchartButtonEl.classList.remove('colab-df-spinner');\n",
              "      quickchartButtonEl.classList.add('colab-df-quickchart-complete');\n",
              "    }\n",
              "    (() => {\n",
              "      let quickchartButtonEl =\n",
              "        document.querySelector('#df-93040589-7f77-4100-a68c-67e513dbe082 button');\n",
              "      quickchartButtonEl.style.display =\n",
              "        google.colab.kernel.accessAllowed ? 'block' : 'none';\n",
              "    })();\n",
              "  </script>\n",
              "</div>\n",
              "    </div>\n",
              "  </div>\n"
            ],
            "application/vnd.google.colaboratory.intrinsic+json": {
              "type": "dataframe",
              "variable_name": "df"
            }
          },
          "metadata": {},
          "execution_count": 2
        }
      ]
    },
    {
      "cell_type": "code",
      "source": [
        "df.info()"
      ],
      "metadata": {
        "colab": {
          "base_uri": "https://localhost:8080/"
        },
        "id": "kgGjmCyx6AWj",
        "outputId": "f956b0fd-c4a5-4f65-e144-a0a8695d7bcf"
      },
      "execution_count": 3,
      "outputs": [
        {
          "output_type": "stream",
          "name": "stdout",
          "text": [
            "<class 'pandas.core.frame.DataFrame'>\n",
            "RangeIndex: 92277 entries, 2 to 92278\n",
            "Data columns (total 31 columns):\n",
            " #   Column       Non-Null Count  Dtype  \n",
            "---  ------       --------------  -----  \n",
            " 0   Date         92277 non-null  object \n",
            " 1   Year         92277 non-null  object \n",
            " 2   DOY          92277 non-null  object \n",
            " 3   Time         92277 non-null  object \n",
            " 4   T            92277 non-null  object \n",
            " 5   RH           92277 non-null  object \n",
            " 6   U            92277 non-null  object \n",
            " 7   Rs           92277 non-null  object \n",
            " 8   Dec          92277 non-null  object \n",
            " 9   dr           92277 non-null  object \n",
            " 10  t.c.         92277 non-null  object \n",
            " 11  angh         92277 non-null  object \n",
            " 12  cos θ        92277 non-null  object \n",
            " 13  Rs pot       92277 non-null  object \n",
            " 14  TRA          92277 non-null  float64\n",
            " 15  Rb           92277 non-null  object \n",
            " 16  es           92277 non-null  object \n",
            " 17  e            92277 non-null  object \n",
            " 18  VPD          92277 non-null  object \n",
            " 19  Rn           92277 non-null  object \n",
            " 20  Δ            92277 non-null  object \n",
            " 21  ρ Cp         92277 non-null  object \n",
            " 22  ra           92277 non-null  object \n",
            " 23  G            92277 non-null  object \n",
            " 24  rc           92277 non-null  object \n",
            " 25  LE           92277 non-null  object \n",
            " 26  LE.1         92277 non-null  object \n",
            " 27  ET           92277 non-null  object \n",
            " 28  Unnamed: 28  7 non-null      object \n",
            " 29  Unnamed: 29  7 non-null      float64\n",
            " 30  Unnamed: 30  7 non-null      object \n",
            "dtypes: float64(2), object(29)\n",
            "memory usage: 21.8+ MB\n"
          ]
        }
      ]
    },
    {
      "cell_type": "code",
      "source": [
        "#Code untuk menyatakan data target dan data fitur\n",
        "target_variable = df['ET']\n",
        "features_variabel = df['T']\n"
      ],
      "metadata": {
        "id": "Ue9BMtws6E6t"
      },
      "execution_count": 4,
      "outputs": []
    },
    {
      "cell_type": "code",
      "source": [
        "# Membuat variabel untuk data fitur dan target\n",
        "X = features_variabel\n",
        "y = target_variable\n",
        "\n",
        "#Split data untuk train dan test dengan perbandingan 70:30\n",
        "X_train, X_test, y_train, y_test = train_test_split(X, y, test_size = 0.3)"
      ],
      "metadata": {
        "id": "FA4ybNJC6KmB"
      },
      "execution_count": 5,
      "outputs": []
    },
    {
      "cell_type": "code",
      "source": [
        "#Random Forest Model\n",
        "model = RandomForestRegressor(n_estimators = 150, max_depth = 5)"
      ],
      "metadata": {
        "id": "CgJrF6216Vdr"
      },
      "execution_count": 6,
      "outputs": []
    },
    {
      "cell_type": "code",
      "source": [
        "X_train_reshaped = X_train.values.reshape(-1, 1)\n",
        "X_test_reshaped = X_test.values.reshape(-1, 1)\n",
        "\n",
        "#Pelatihan model untuk data training\n",
        "model.fit(X_train_reshaped, y_train)"
      ],
      "metadata": {
        "colab": {
          "base_uri": "https://localhost:8080/",
          "height": 74
        },
        "id": "cvvInGss6NWv",
        "outputId": "cd3cf28b-4e04-4b99-f9ab-84f50fe51119"
      },
      "execution_count": 7,
      "outputs": [
        {
          "output_type": "execute_result",
          "data": {
            "text/plain": [
              "RandomForestRegressor(max_depth=5, n_estimators=150)"
            ],
            "text/html": [
              "<style>#sk-container-id-1 {color: black;background-color: white;}#sk-container-id-1 pre{padding: 0;}#sk-container-id-1 div.sk-toggleable {background-color: white;}#sk-container-id-1 label.sk-toggleable__label {cursor: pointer;display: block;width: 100%;margin-bottom: 0;padding: 0.3em;box-sizing: border-box;text-align: center;}#sk-container-id-1 label.sk-toggleable__label-arrow:before {content: \"▸\";float: left;margin-right: 0.25em;color: #696969;}#sk-container-id-1 label.sk-toggleable__label-arrow:hover:before {color: black;}#sk-container-id-1 div.sk-estimator:hover label.sk-toggleable__label-arrow:before {color: black;}#sk-container-id-1 div.sk-toggleable__content {max-height: 0;max-width: 0;overflow: hidden;text-align: left;background-color: #f0f8ff;}#sk-container-id-1 div.sk-toggleable__content pre {margin: 0.2em;color: black;border-radius: 0.25em;background-color: #f0f8ff;}#sk-container-id-1 input.sk-toggleable__control:checked~div.sk-toggleable__content {max-height: 200px;max-width: 100%;overflow: auto;}#sk-container-id-1 input.sk-toggleable__control:checked~label.sk-toggleable__label-arrow:before {content: \"▾\";}#sk-container-id-1 div.sk-estimator input.sk-toggleable__control:checked~label.sk-toggleable__label {background-color: #d4ebff;}#sk-container-id-1 div.sk-label input.sk-toggleable__control:checked~label.sk-toggleable__label {background-color: #d4ebff;}#sk-container-id-1 input.sk-hidden--visually {border: 0;clip: rect(1px 1px 1px 1px);clip: rect(1px, 1px, 1px, 1px);height: 1px;margin: -1px;overflow: hidden;padding: 0;position: absolute;width: 1px;}#sk-container-id-1 div.sk-estimator {font-family: monospace;background-color: #f0f8ff;border: 1px dotted black;border-radius: 0.25em;box-sizing: border-box;margin-bottom: 0.5em;}#sk-container-id-1 div.sk-estimator:hover {background-color: #d4ebff;}#sk-container-id-1 div.sk-parallel-item::after {content: \"\";width: 100%;border-bottom: 1px solid gray;flex-grow: 1;}#sk-container-id-1 div.sk-label:hover label.sk-toggleable__label {background-color: #d4ebff;}#sk-container-id-1 div.sk-serial::before {content: \"\";position: absolute;border-left: 1px solid gray;box-sizing: border-box;top: 0;bottom: 0;left: 50%;z-index: 0;}#sk-container-id-1 div.sk-serial {display: flex;flex-direction: column;align-items: center;background-color: white;padding-right: 0.2em;padding-left: 0.2em;position: relative;}#sk-container-id-1 div.sk-item {position: relative;z-index: 1;}#sk-container-id-1 div.sk-parallel {display: flex;align-items: stretch;justify-content: center;background-color: white;position: relative;}#sk-container-id-1 div.sk-item::before, #sk-container-id-1 div.sk-parallel-item::before {content: \"\";position: absolute;border-left: 1px solid gray;box-sizing: border-box;top: 0;bottom: 0;left: 50%;z-index: -1;}#sk-container-id-1 div.sk-parallel-item {display: flex;flex-direction: column;z-index: 1;position: relative;background-color: white;}#sk-container-id-1 div.sk-parallel-item:first-child::after {align-self: flex-end;width: 50%;}#sk-container-id-1 div.sk-parallel-item:last-child::after {align-self: flex-start;width: 50%;}#sk-container-id-1 div.sk-parallel-item:only-child::after {width: 0;}#sk-container-id-1 div.sk-dashed-wrapped {border: 1px dashed gray;margin: 0 0.4em 0.5em 0.4em;box-sizing: border-box;padding-bottom: 0.4em;background-color: white;}#sk-container-id-1 div.sk-label label {font-family: monospace;font-weight: bold;display: inline-block;line-height: 1.2em;}#sk-container-id-1 div.sk-label-container {text-align: center;}#sk-container-id-1 div.sk-container {/* jupyter's `normalize.less` sets `[hidden] { display: none; }` but bootstrap.min.css set `[hidden] { display: none !important; }` so we also need the `!important` here to be able to override the default hidden behavior on the sphinx rendered scikit-learn.org. See: https://github.com/scikit-learn/scikit-learn/issues/21755 */display: inline-block !important;position: relative;}#sk-container-id-1 div.sk-text-repr-fallback {display: none;}</style><div id=\"sk-container-id-1\" class=\"sk-top-container\"><div class=\"sk-text-repr-fallback\"><pre>RandomForestRegressor(max_depth=5, n_estimators=150)</pre><b>In a Jupyter environment, please rerun this cell to show the HTML representation or trust the notebook. <br />On GitHub, the HTML representation is unable to render, please try loading this page with nbviewer.org.</b></div><div class=\"sk-container\" hidden><div class=\"sk-item\"><div class=\"sk-estimator sk-toggleable\"><input class=\"sk-toggleable__control sk-hidden--visually\" id=\"sk-estimator-id-1\" type=\"checkbox\" checked><label for=\"sk-estimator-id-1\" class=\"sk-toggleable__label sk-toggleable__label-arrow\">RandomForestRegressor</label><div class=\"sk-toggleable__content\"><pre>RandomForestRegressor(max_depth=5, n_estimators=150)</pre></div></div></div></div></div>"
            ]
          },
          "metadata": {},
          "execution_count": 7
        }
      ]
    },
    {
      "cell_type": "code",
      "source": [
        "#Prediksi pada data training dan test\n",
        "x_pred = model.predict(X_train_reshaped)\n",
        "y_pred = model.predict(X_test_reshaped)\n",
        "\n",
        "# Evaluasi model\n",
        "mse = mean_squared_error(y_test, y_pred)\n",
        "r2 = r2_score(y_test, y_pred)\n",
        "\n",
        "print(f\"Mean Squared Error : {mse: .2f}\")\n",
        "print(f\"R-squared: {r2: .2f}\")"
      ],
      "metadata": {
        "colab": {
          "base_uri": "https://localhost:8080/"
        },
        "id": "FFYN8rEq6QLU",
        "outputId": "34db36a1-b905-4688-f5d6-b6ea978e8a83"
      },
      "execution_count": 8,
      "outputs": [
        {
          "output_type": "stream",
          "name": "stdout",
          "text": [
            "Mean Squared Error :  0.01\n",
            "R-squared:  0.82\n"
          ]
        }
      ]
    },
    {
      "cell_type": "code",
      "source": [
        "import matplotlib.pyplot as plt\n",
        "# Plot data aktual dan prediksi pada data pelatihan\n",
        "plt.scatter(X_train, y_train, color='black', label='Data Aktual')\n",
        "plt.plot(X_train, x_pred, color='red', label='Prediksi ETp', linewidth=1)\n",
        "plt.title('Data Aktual dan Prediksi ETp pada Data Pelatihan')\n",
        "plt.xlabel('X')\n",
        "plt.ylabel('y')\n",
        "plt.legend()\n",
        "plt.show()"
      ],
      "metadata": {
        "colab": {
          "base_uri": "https://localhost:8080/",
          "height": 472
        },
        "id": "o62U_8KA6cRB",
        "outputId": "145d2d82-8da2-4322-8d7f-e2de3e556c60"
      },
      "execution_count": 9,
      "outputs": [
        {
          "output_type": "display_data",
          "data": {
            "text/plain": [
              "<Figure size 640x480 with 1 Axes>"
            ],
            "image/png": "[encoded data removed]"
          },
          "metadata": {}
        }
      ]
    },
    {
      "cell_type": "code",
      "source": [
        "#Plot pada data test\n",
        "plt.scatter(X_test, y_test, color = 'black', label = 'Data Aktual')\n",
        "plt.plot(X_test, y_pred, color='blue', label='Prediksi ETp')\n",
        "plt.title('Validation Data Aktual dan Prediksi ETp')\n",
        "plt.xlabel('X')\n",
        "plt.ylabel('y')\n",
        "plt.legend()\n",
        "plt.show()"
      ],
      "metadata": {
        "colab": {
          "base_uri": "https://localhost:8080/",
          "height": 472
        },
        "id": "cvu9QHOx6ego",
        "outputId": "07fd6d47-341b-481c-ac88-678c8af0a45f"
      },
      "execution_count": 10,
      "outputs": [
        {
          "output_type": "display_data",
          "data": {
            "text/plain": [
              "<Figure size 640x480 with 1 Axes>"
            ],
            "image/png": "[encoded data removed]"
          },
          "metadata": {}
        }
      ]
    }
  ]
}