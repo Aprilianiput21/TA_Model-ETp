{
  "nbformat": 4,
  "nbformat_minor": 0,
  "metadata": {
    "colab": {
      "provenance": [],
      "authorship_tag": "ABX9TyP7iqRZsISydYBVickQqp4Z",
      "include_colab_link": true
    },
    "kernelspec": {
      "name": "python3",
      "display_name": "Python 3"
    },
    "language_info": {
      "name": "python"
    }
  },
  "cells": [
    {
      "cell_type": "markdown",
      "metadata": {
        "id": "view-in-github",
        "colab_type": "text"
      },
      "source": [
        "<a href=\"https://colab.research.google.com/github/Aprilianiput21/TA_Model-ETp/blob/main/PrediksiBP_Tungkub_Rs%26T.ipynb\" target=\"_parent\"><img src=\"https://colab.research.google.com/assets/colab-badge.svg\" alt=\"Open In Colab\"/></a>"
      ]
    },
    {
      "cell_type": "code",
      "execution_count": 8,
      "metadata": {
        "id": "R_nnRVc8qkVr",
        "colab": {
          "base_uri": "https://localhost:8080/"
        },
        "outputId": "7a2e2a73-2dd9-4bb0-f8ed-032ef43afbc0"
      },
      "outputs": [
        {
          "output_type": "stream",
          "name": "stdout",
          "text": [
            "[0.62844773]\n"
          ]
        }
      ],
      "source": [
        "import numpy as np\n",
        "import joblib\n",
        "\n",
        "model =joblib.load('ModelBP_Tungkub_Rs&T.joblib')\n",
        "\n",
        "data_baru = np.array([[35]])\n",
        "prediksi = model.predict(data_baru)\n",
        "\n",
        "\n",
        "print(prediksi)"
      ]
    }
  ]
}