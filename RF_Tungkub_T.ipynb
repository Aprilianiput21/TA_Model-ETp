{
  "nbformat": 4,
  "nbformat_minor": 0,
  "metadata": {
    "colab": {
      "provenance": [],
      "mount_file_id": "188XDuQESx6tMj8_O6pUmHcunloWGW-FM",
      "authorship_tag": "ABX9TyPP5xNaHRudCYA+NQqVtyhX",
      "include_colab_link": true
    },
    "kernelspec": {
      "name": "python3",
      "display_name": "Python 3"
    },
    "language_info": {
      "name": "python"
    }
  },
  "cells": [
    {
      "cell_type": "markdown",
      "metadata": {
        "id": "view-in-github",
        "colab_type": "text"
      },
      "source": [
        "<a href=\"https://colab.research.google.com/github/Aprilianiput21/TA_Model-ETp/blob/main/RF_Tungkub_T.ipynb\" target=\"_parent\"><img src=\"https://colab.research.google.com/assets/colab-badge.svg\" alt=\"Open In Colab\"/></a>"
      ]
    },
    {
      "cell_type": "markdown",
      "source": [
        "**Estimasi ETo dengan Algoritma Random Forest**\n",
        "\n",
        "Data Masukan : Suhu Udara"
      ],
      "metadata": {
        "id": "2onW7Fa7MDe6"
      }
    },
    {
      "cell_type": "code",
      "execution_count": 25,
      "metadata": {
        "id": "-faO42EjwHgr"
      },
      "outputs": [],
      "source": [
        "#import library\n",
        "import pandas as pd\n",
        "import numpy as np\n",
        "from sklearn.ensemble import RandomForestRegressor\n",
        "from sklearn.model_selection import train_test_split\n",
        "from sklearn.metrics import mean_squared_error, r2_score"
      ]
    },
    {
      "cell_type": "code",
      "source": [
        "#load data target dan fitur (Excel)\n",
        "df = pd.read_excel('/content/Tungkub_Hourly_PM_New.xlsx')\n",
        "df = df.drop(0)\n",
        "df = df.drop(1)\n",
        "df.head()\n"
      ],
      "metadata": {
        "id": "8VCv-FjzxPKP",
        "colab": {
          "base_uri": "https://localhost:8080/",
          "height": 446
        },
        "outputId": "51e08f4c-f783-438a-e4c4-4b7607fed105"
      },
      "execution_count": 26,
      "outputs": [
        {
          "output_type": "execute_result",
          "data": {
            "text/plain": [
              "                  Date  Year DOY Time       T      RH     U     Rs      Dec  \\\n",
              "2  2023-02-13 12:00:02  2023  44   12  29.312  70.219     1  438.1 -0.23786   \n",
              "3  2023-02-13 13:00:02  2023  44   13  29.676  69.697  1.67  375.6 -0.23786   \n",
              "4  2023-02-13 14:00:02  2023  44   14   28.11  78.695  1.34  323.1 -0.23786   \n",
              "5  2023-02-13 15:00:02  2023  44   15  26.588  76.712     1  214.4 -0.23786   \n",
              "6  2023-02-13 16:00:02  2023  44   16  27.767  76.011  0.67  210.6 -0.23786   \n",
              "\n",
              "         dr  ...         ρ Cp          ra          G  rc          LE  \\\n",
              "2  1.023978  ...  1260.465453  193.254701  33.560402  69  247.741287   \n",
              "3  1.023978  ...  1256.371338  115.721378   28.75582  69  221.961341   \n",
              "4  1.023978  ...  1252.723978  144.219926  24.783312  69  179.529946   \n",
              "5  1.023978  ...   1245.78727  193.254701  16.314088  69  121.028726   \n",
              "6  1.023978  ...  1242.785238  288.439852   16.06366  69  119.201398   \n",
              "\n",
              "       LE.1        ET Unnamed: 28 Unnamed: 29 Unnamed: 30  \n",
              "2  0.891869  0.364028           h        0.12           m  \n",
              "3  0.799061  0.326147      rc day       69.00         s/m  \n",
              "4  0.646308  0.263799    rc night      690.00         s/m  \n",
              "5  0.435703  0.177838   Latitude        -8.00     degrees  \n",
              "6  0.429125  0.175153   Longitude      115.00     degrees  \n",
              "\n",
              "[5 rows x 31 columns]"
            ],
            "text/html": [
              "\n",
              "  <div id=\"df-ab8f953f-4677-4c64-b0f6-0e62d6cf024a\" class=\"colab-df-container\">\n",
              "    <div>\n",
              "<style scoped>\n",
              "    .dataframe tbody tr th:only-of-type {\n",
              "        vertical-align: middle;\n",
              "    }\n",
              "\n",
              "    .dataframe tbody tr th {\n",
              "        vertical-align: top;\n",
              "    }\n",
              "\n",
              "    .dataframe thead th {\n",
              "        text-align: right;\n",
              "    }\n",
              "</style>\n",
              "<table border=\"1\" class=\"dataframe\">\n",
              "  <thead>\n",
              "    <tr style=\"text-align: right;\">\n",
              "      <th></th>\n",
              "      <th>Date</th>\n",
              "      <th>Year</th>\n",
              "      <th>DOY</th>\n",
              "      <th>Time</th>\n",
              "      <th>T</th>\n",
              "      <th>RH</th>\n",
              "      <th>U</th>\n",
              "      <th>Rs</th>\n",
              "      <th>Dec</th>\n",
              "      <th>dr</th>\n",
              "      <th>...</th>\n",
              "      <th>ρ Cp</th>\n",
              "      <th>ra</th>\n",
              "      <th>G</th>\n",
              "      <th>rc</th>\n",
              "      <th>LE</th>\n",
              "      <th>LE.1</th>\n",
              "      <th>ET</th>\n",
              "      <th>Unnamed: 28</th>\n",
              "      <th>Unnamed: 29</th>\n",
              "      <th>Unnamed: 30</th>\n",
              "    </tr>\n",
              "  </thead>\n",
              "  <tbody>\n",
              "    <tr>\n",
              "      <th>2</th>\n",
              "      <td>2023-02-13 12:00:02</td>\n",
              "      <td>2023</td>\n",
              "      <td>44</td>\n",
              "      <td>12</td>\n",
              "      <td>29.312</td>\n",
              "      <td>70.219</td>\n",
              "      <td>1</td>\n",
              "      <td>438.1</td>\n",
              "      <td>-0.23786</td>\n",
              "      <td>1.023978</td>\n",
              "      <td>...</td>\n",
              "      <td>1260.465453</td>\n",
              "      <td>193.254701</td>\n",
              "      <td>33.560402</td>\n",
              "      <td>69</td>\n",
              "      <td>247.741287</td>\n",
              "      <td>0.891869</td>\n",
              "      <td>0.364028</td>\n",
              "      <td>h</td>\n",
              "      <td>0.12</td>\n",
              "      <td>m</td>\n",
              "    </tr>\n",
              "    <tr>\n",
              "      <th>3</th>\n",
              "      <td>2023-02-13 13:00:02</td>\n",
              "      <td>2023</td>\n",
              "      <td>44</td>\n",
              "      <td>13</td>\n",
              "      <td>29.676</td>\n",
              "      <td>69.697</td>\n",
              "      <td>1.67</td>\n",
              "      <td>375.6</td>\n",
              "      <td>-0.23786</td>\n",
              "      <td>1.023978</td>\n",
              "      <td>...</td>\n",
              "      <td>1256.371338</td>\n",
              "      <td>115.721378</td>\n",
              "      <td>28.75582</td>\n",
              "      <td>69</td>\n",
              "      <td>221.961341</td>\n",
              "      <td>0.799061</td>\n",
              "      <td>0.326147</td>\n",
              "      <td>rc day</td>\n",
              "      <td>69.00</td>\n",
              "      <td>s/m</td>\n",
              "    </tr>\n",
              "    <tr>\n",
              "      <th>4</th>\n",
              "      <td>2023-02-13 14:00:02</td>\n",
              "      <td>2023</td>\n",
              "      <td>44</td>\n",
              "      <td>14</td>\n",
              "      <td>28.11</td>\n",
              "      <td>78.695</td>\n",
              "      <td>1.34</td>\n",
              "      <td>323.1</td>\n",
              "      <td>-0.23786</td>\n",
              "      <td>1.023978</td>\n",
              "      <td>...</td>\n",
              "      <td>1252.723978</td>\n",
              "      <td>144.219926</td>\n",
              "      <td>24.783312</td>\n",
              "      <td>69</td>\n",
              "      <td>179.529946</td>\n",
              "      <td>0.646308</td>\n",
              "      <td>0.263799</td>\n",
              "      <td>rc night</td>\n",
              "      <td>690.00</td>\n",
              "      <td>s/m</td>\n",
              "    </tr>\n",
              "    <tr>\n",
              "      <th>5</th>\n",
              "      <td>2023-02-13 15:00:02</td>\n",
              "      <td>2023</td>\n",
              "      <td>44</td>\n",
              "      <td>15</td>\n",
              "      <td>26.588</td>\n",
              "      <td>76.712</td>\n",
              "      <td>1</td>\n",
              "      <td>214.4</td>\n",
              "      <td>-0.23786</td>\n",
              "      <td>1.023978</td>\n",
              "      <td>...</td>\n",
              "      <td>1245.78727</td>\n",
              "      <td>193.254701</td>\n",
              "      <td>16.314088</td>\n",
              "      <td>69</td>\n",
              "      <td>121.028726</td>\n",
              "      <td>0.435703</td>\n",
              "      <td>0.177838</td>\n",
              "      <td>Latitude</td>\n",
              "      <td>-8.00</td>\n",
              "      <td>degrees</td>\n",
              "    </tr>\n",
              "    <tr>\n",
              "      <th>6</th>\n",
              "      <td>2023-02-13 16:00:02</td>\n",
              "      <td>2023</td>\n",
              "      <td>44</td>\n",
              "      <td>16</td>\n",
              "      <td>27.767</td>\n",
              "      <td>76.011</td>\n",
              "      <td>0.67</td>\n",
              "      <td>210.6</td>\n",
              "      <td>-0.23786</td>\n",
              "      <td>1.023978</td>\n",
              "      <td>...</td>\n",
              "      <td>1242.785238</td>\n",
              "      <td>288.439852</td>\n",
              "      <td>16.06366</td>\n",
              "      <td>69</td>\n",
              "      <td>119.201398</td>\n",
              "      <td>0.429125</td>\n",
              "      <td>0.175153</td>\n",
              "      <td>Longitude</td>\n",
              "      <td>115.00</td>\n",
              "      <td>degrees</td>\n",
              "    </tr>\n",
              "  </tbody>\n",
              "</table>\n",
              "<p>5 rows × 31 columns</p>\n",
              "</div>\n",
              "    <div class=\"colab-df-buttons\">\n",
              "\n",
              "  <div class=\"colab-df-container\">\n",
              "    <button class=\"colab-df-convert\" onclick=\"convertToInteractive('df-ab8f953f-4677-4c64-b0f6-0e62d6cf024a')\"\n",
              "            title=\"Convert this dataframe to an interactive table.\"\n",
              "            style=\"display:none;\">\n",
              "\n",
              "  <svg xmlns=\"http://www.w3.org/2000/svg\" height=\"24px\" viewBox=\"0 -960 960 960\">\n",
              "    <path d=\"M120-120v-720h720v720H120Zm60-500h600v-160H180v160Zm220 220h160v-160H400v160Zm0 220h160v-160H400v160ZM180-400h160v-160H180v160Zm440 0h160v-160H620v160ZM180-180h160v-160H180v160Zm440 0h160v-160H620v160Z\"/>\n",
              "  </svg>\n",
              "    </button>\n",
              "\n",
              "  <style>\n",
              "    .colab-df-container {\n",
              "      display:flex;\n",
              "      gap: 12px;\n",
              "    }\n",
              "\n",
              "    .colab-df-convert {\n",
              "      background-color: #E8F0FE;\n",
              "      border: none;\n",
              "      border-radius: 50%;\n",
              "      cursor: pointer;\n",
              "      display: none;\n",
              "      fill: #1967D2;\n",
              "      height: 32px;\n",
              "      padding: 0 0 0 0;\n",
              "      width: 32px;\n",
              "    }\n",
              "\n",
              "    .colab-df-convert:hover {\n",
              "      background-color: #E2EBFA;\n",
              "      box-shadow: 0px 1px 2px rgba(60, 64, 67, 0.3), 0px 1px 3px 1px rgba(60, 64, 67, 0.15);\n",
              "      fill: #174EA6;\n",
              "    }\n",
              "\n",
              "    .colab-df-buttons div {\n",
              "      margin-bottom: 4px;\n",
              "    }\n",
              "\n",
              "    [theme=dark] .colab-df-convert {\n",
              "      background-color: #3B4455;\n",
              "      fill: #D2E3FC;\n",
              "    }\n",
              "\n",
              "    [theme=dark] .colab-df-convert:hover {\n",
              "      background-color: #434B5C;\n",
              "      box-shadow: 0px 1px 3px 1px rgba(0, 0, 0, 0.15);\n",
              "      filter: drop-shadow(0px 1px 2px rgba(0, 0, 0, 0.3));\n",
              "      fill: #FFFFFF;\n",
              "    }\n",
              "  </style>\n",
              "\n",
              "    <script>\n",
              "      const buttonEl =\n",
              "        document.querySelector('#df-ab8f953f-4677-4c64-b0f6-0e62d6cf024a button.colab-df-convert');\n",
              "      buttonEl.style.display =\n",
              "        google.colab.kernel.accessAllowed ? 'block' : 'none';\n",
              "\n",
              "      async function convertToInteractive(key) {\n",
              "        const element = document.querySelector('#df-ab8f953f-4677-4c64-b0f6-0e62d6cf024a');\n",
              "        const dataTable =\n",
              "          await google.colab.kernel.invokeFunction('convertToInteractive',\n",
              "                                                    [key], {});\n",
              "        if (!dataTable) return;\n",
              "\n",
              "        const docLinkHtml = 'Like what you see? Visit the ' +\n",
              "          '<a target=\"_blank\" href=https://colab.research.google.com/notebooks/data_table.ipynb>data table notebook</a>'\n",
              "          + ' to learn more about interactive tables.';\n",
              "        element.innerHTML = '';\n",
              "        dataTable['output_type'] = 'display_data';\n",
              "        await google.colab.output.renderOutput(dataTable, element);\n",
              "        const docLink = document.createElement('div');\n",
              "        docLink.innerHTML = docLinkHtml;\n",
              "        element.appendChild(docLink);\n",
              "      }\n",
              "    </script>\n",
              "  </div>\n",
              "\n",
              "\n",
              "<div id=\"df-a0123b11-0ebb-4b49-97df-ca7a52d2bf74\">\n",
              "  <button class=\"colab-df-quickchart\" onclick=\"quickchart('df-a0123b11-0ebb-4b49-97df-ca7a52d2bf74')\"\n",
              "            title=\"Suggest charts\"\n",
              "            style=\"display:none;\">\n",
              "\n",
              "<svg xmlns=\"http://www.w3.org/2000/svg\" height=\"24px\"viewBox=\"0 0 24 24\"\n",
              "     width=\"24px\">\n",
              "    <g>\n",
              "        <path d=\"M19 3H5c-1.1 0-2 .9-2 2v14c0 1.1.9 2 2 2h14c1.1 0 2-.9 2-2V5c0-1.1-.9-2-2-2zM9 17H7v-7h2v7zm4 0h-2V7h2v10zm4 0h-2v-4h2v4z\"/>\n",
              "    </g>\n",
              "</svg>\n",
              "  </button>\n",
              "\n",
              "<style>\n",
              "  .colab-df-quickchart {\n",
              "      --bg-color: #E8F0FE;\n",
              "      --fill-color: #1967D2;\n",
              "      --hover-bg-color: #E2EBFA;\n",
              "      --hover-fill-color: #174EA6;\n",
              "      --disabled-fill-color: #AAA;\n",
              "      --disabled-bg-color: #DDD;\n",
              "  }\n",
              "\n",
              "  [theme=dark] .colab-df-quickchart {\n",
              "      --bg-color: #3B4455;\n",
              "      --fill-color: #D2E3FC;\n",
              "      --hover-bg-color: #434B5C;\n",
              "      --hover-fill-color: #FFFFFF;\n",
              "      --disabled-bg-color: #3B4455;\n",
              "      --disabled-fill-color: #666;\n",
              "  }\n",
              "\n",
              "  .colab-df-quickchart {\n",
              "    background-color: var(--bg-color);\n",
              "    border: none;\n",
              "    border-radius: 50%;\n",
              "    cursor: pointer;\n",
              "    display: none;\n",
              "    fill: var(--fill-color);\n",
              "    height: 32px;\n",
              "    padding: 0;\n",
              "    width: 32px;\n",
              "  }\n",
              "\n",
              "  .colab-df-quickchart:hover {\n",
              "    background-color: var(--hover-bg-color);\n",
              "    box-shadow: 0 1px 2px rgba(60, 64, 67, 0.3), 0 1px 3px 1px rgba(60, 64, 67, 0.15);\n",
              "    fill: var(--button-hover-fill-color);\n",
              "  }\n",
              "\n",
              "  .colab-df-quickchart-complete:disabled,\n",
              "  .colab-df-quickchart-complete:disabled:hover {\n",
              "    background-color: var(--disabled-bg-color);\n",
              "    fill: var(--disabled-fill-color);\n",
              "    box-shadow: none;\n",
              "  }\n",
              "\n",
              "  .colab-df-spinner {\n",
              "    border: 2px solid var(--fill-color);\n",
              "    border-color: transparent;\n",
              "    border-bottom-color: var(--fill-color);\n",
              "    animation:\n",
              "      spin 1s steps(1) infinite;\n",
              "  }\n",
              "\n",
              "  @keyframes spin {\n",
              "    0% {\n",
              "      border-color: transparent;\n",
              "      border-bottom-color: var(--fill-color);\n",
              "      border-left-color: var(--fill-color);\n",
              "    }\n",
              "    20% {\n",
              "      border-color: transparent;\n",
              "      border-left-color: var(--fill-color);\n",
              "      border-top-color: var(--fill-color);\n",
              "    }\n",
              "    30% {\n",
              "      border-color: transparent;\n",
              "      border-left-color: var(--fill-color);\n",
              "      border-top-color: var(--fill-color);\n",
              "      border-right-color: var(--fill-color);\n",
              "    }\n",
              "    40% {\n",
              "      border-color: transparent;\n",
              "      border-right-color: var(--fill-color);\n",
              "      border-top-color: var(--fill-color);\n",
              "    }\n",
              "    60% {\n",
              "      border-color: transparent;\n",
              "      border-right-color: var(--fill-color);\n",
              "    }\n",
              "    80% {\n",
              "      border-color: transparent;\n",
              "      border-right-color: var(--fill-color);\n",
              "      border-bottom-color: var(--fill-color);\n",
              "    }\n",
              "    90% {\n",
              "      border-color: transparent;\n",
              "      border-bottom-color: var(--fill-color);\n",
              "    }\n",
              "  }\n",
              "</style>\n",
              "\n",
              "  <script>\n",
              "    async function quickchart(key) {\n",
              "      const quickchartButtonEl =\n",
              "        document.querySelector('#' + key + ' button');\n",
              "      quickchartButtonEl.disabled = true;  // To prevent multiple clicks.\n",
              "      quickchartButtonEl.classList.add('colab-df-spinner');\n",
              "      try {\n",
              "        const charts = await google.colab.kernel.invokeFunction(\n",
              "            'suggestCharts', [key], {});\n",
              "      } catch (error) {\n",
              "        console.error('Error during call to suggestCharts:', error);\n",
              "      }\n",
              "      quickchartButtonEl.classList.remove('colab-df-spinner');\n",
              "      quickchartButtonEl.classList.add('colab-df-quickchart-complete');\n",
              "    }\n",
              "    (() => {\n",
              "      let quickchartButtonEl =\n",
              "        document.querySelector('#df-a0123b11-0ebb-4b49-97df-ca7a52d2bf74 button');\n",
              "      quickchartButtonEl.style.display =\n",
              "        google.colab.kernel.accessAllowed ? 'block' : 'none';\n",
              "    })();\n",
              "  </script>\n",
              "</div>\n",
              "    </div>\n",
              "  </div>\n"
            ],
            "application/vnd.google.colaboratory.intrinsic+json": {
              "type": "dataframe",
              "variable_name": "df"
            }
          },
          "metadata": {},
          "execution_count": 26
        }
      ]
    },
    {
      "cell_type": "code",
      "source": [
        "df.info()"
      ],
      "metadata": {
        "colab": {
          "base_uri": "https://localhost:8080/"
        },
        "id": "86w9dR52R0cB",
        "outputId": "ee47708f-a45c-4b19-8039-40b0f0b59e43"
      },
      "execution_count": 27,
      "outputs": [
        {
          "output_type": "stream",
          "name": "stdout",
          "text": [
            "<class 'pandas.core.frame.DataFrame'>\n",
            "RangeIndex: 5758 entries, 2 to 5759\n",
            "Data columns (total 31 columns):\n",
            " #   Column       Non-Null Count  Dtype  \n",
            "---  ------       --------------  -----  \n",
            " 0   Date         5758 non-null   object \n",
            " 1   Year         5758 non-null   object \n",
            " 2   DOY          5758 non-null   object \n",
            " 3   Time         5758 non-null   object \n",
            " 4   T            5758 non-null   object \n",
            " 5   RH           5758 non-null   object \n",
            " 6   U            5758 non-null   object \n",
            " 7   Rs           5758 non-null   object \n",
            " 8   Dec          5758 non-null   object \n",
            " 9   dr           5758 non-null   object \n",
            " 10  t.c.         5758 non-null   object \n",
            " 11  angh         5758 non-null   object \n",
            " 12  cos θ        5758 non-null   object \n",
            " 13  Rs pot       5758 non-null   object \n",
            " 14  TRA          5758 non-null   float64\n",
            " 15  Rb           5758 non-null   object \n",
            " 16  es           5758 non-null   object \n",
            " 17  e            5758 non-null   object \n",
            " 18  VPD          5758 non-null   object \n",
            " 19  Rn           5758 non-null   object \n",
            " 20  Δ            5758 non-null   object \n",
            " 21  ρ Cp         5758 non-null   object \n",
            " 22  ra           5758 non-null   object \n",
            " 23  G            5758 non-null   object \n",
            " 24  rc           5758 non-null   object \n",
            " 25  LE           5758 non-null   object \n",
            " 26  LE.1         5758 non-null   object \n",
            " 27  ET           5758 non-null   object \n",
            " 28  Unnamed: 28  7 non-null      object \n",
            " 29  Unnamed: 29  7 non-null      float64\n",
            " 30  Unnamed: 30  7 non-null      object \n",
            "dtypes: float64(2), object(29)\n",
            "memory usage: 1.4+ MB\n"
          ]
        }
      ]
    },
    {
      "cell_type": "code",
      "source": [
        "target_variable = df['ET']\n",
        "features_variable = df['T']"
      ],
      "metadata": {
        "id": "Dz9B4RapQw8U"
      },
      "execution_count": 28,
      "outputs": []
    },
    {
      "cell_type": "code",
      "source": [
        "# Split data untuk data fitur dan target\n",
        "X = features_variable\n",
        "y = target_variable\n",
        "\n",
        "#Split data untuk train dan test\n",
        "X_train, X_test, y_train, y_test = train_test_split(X, y, test_size=0.3)"
      ],
      "metadata": {
        "id": "2L5gIQtoxZ1W"
      },
      "execution_count": 29,
      "outputs": []
    },
    {
      "cell_type": "code",
      "source": [
        "#Random Forest Model\n",
        "model = RandomForestRegressor(n_estimators = 150, criterion='squared_error', max_depth =5)"
      ],
      "metadata": {
        "id": "70I3ZCQYxeJF"
      },
      "execution_count": 30,
      "outputs": []
    },
    {
      "cell_type": "code",
      "source": [
        "#X_train_reshaped = np.reshape(X_train, (-1, 1))\n",
        "#print(X_train.shape)\n",
        "X_train_reshaped = X_train.values.reshape(-1, 1)\n",
        "X_test_reshaped = X_test.values.reshape(-1, 1)\n",
        "\n",
        "#Pelatihan model untuk data training\n",
        "model.fit(X_train_reshaped, y_train)"
      ],
      "metadata": {
        "colab": {
          "base_uri": "https://localhost:8080/",
          "height": 74
        },
        "id": "2ZN6D6GfxiOd",
        "outputId": "544d4b72-9855-41a1-c3b7-d1befaf83923"
      },
      "execution_count": 31,
      "outputs": [
        {
          "output_type": "execute_result",
          "data": {
            "text/plain": [
              "RandomForestRegressor(max_depth=5, n_estimators=150)"
            ],
            "text/html": [
              "<style>#sk-container-id-2 {color: black;background-color: white;}#sk-container-id-2 pre{padding: 0;}#sk-container-id-2 div.sk-toggleable {background-color: white;}#sk-container-id-2 label.sk-toggleable__label {cursor: pointer;display: block;width: 100%;margin-bottom: 0;padding: 0.3em;box-sizing: border-box;text-align: center;}#sk-container-id-2 label.sk-toggleable__label-arrow:before {content: \"▸\";float: left;margin-right: 0.25em;color: #696969;}#sk-container-id-2 label.sk-toggleable__label-arrow:hover:before {color: black;}#sk-container-id-2 div.sk-estimator:hover label.sk-toggleable__label-arrow:before {color: black;}#sk-container-id-2 div.sk-toggleable__content {max-height: 0;max-width: 0;overflow: hidden;text-align: left;background-color: #f0f8ff;}#sk-container-id-2 div.sk-toggleable__content pre {margin: 0.2em;color: black;border-radius: 0.25em;background-color: #f0f8ff;}#sk-container-id-2 input.sk-toggleable__control:checked~div.sk-toggleable__content {max-height: 200px;max-width: 100%;overflow: auto;}#sk-container-id-2 input.sk-toggleable__control:checked~label.sk-toggleable__label-arrow:before {content: \"▾\";}#sk-container-id-2 div.sk-estimator input.sk-toggleable__control:checked~label.sk-toggleable__label {background-color: #d4ebff;}#sk-container-id-2 div.sk-label input.sk-toggleable__control:checked~label.sk-toggleable__label {background-color: #d4ebff;}#sk-container-id-2 input.sk-hidden--visually {border: 0;clip: rect(1px 1px 1px 1px);clip: rect(1px, 1px, 1px, 1px);height: 1px;margin: -1px;overflow: hidden;padding: 0;position: absolute;width: 1px;}#sk-container-id-2 div.sk-estimator {font-family: monospace;background-color: #f0f8ff;border: 1px dotted black;border-radius: 0.25em;box-sizing: border-box;margin-bottom: 0.5em;}#sk-container-id-2 div.sk-estimator:hover {background-color: #d4ebff;}#sk-container-id-2 div.sk-parallel-item::after {content: \"\";width: 100%;border-bottom: 1px solid gray;flex-grow: 1;}#sk-container-id-2 div.sk-label:hover label.sk-toggleable__label {background-color: #d4ebff;}#sk-container-id-2 div.sk-serial::before {content: \"\";position: absolute;border-left: 1px solid gray;box-sizing: border-box;top: 0;bottom: 0;left: 50%;z-index: 0;}#sk-container-id-2 div.sk-serial {display: flex;flex-direction: column;align-items: center;background-color: white;padding-right: 0.2em;padding-left: 0.2em;position: relative;}#sk-container-id-2 div.sk-item {position: relative;z-index: 1;}#sk-container-id-2 div.sk-parallel {display: flex;align-items: stretch;justify-content: center;background-color: white;position: relative;}#sk-container-id-2 div.sk-item::before, #sk-container-id-2 div.sk-parallel-item::before {content: \"\";position: absolute;border-left: 1px solid gray;box-sizing: border-box;top: 0;bottom: 0;left: 50%;z-index: -1;}#sk-container-id-2 div.sk-parallel-item {display: flex;flex-direction: column;z-index: 1;position: relative;background-color: white;}#sk-container-id-2 div.sk-parallel-item:first-child::after {align-self: flex-end;width: 50%;}#sk-container-id-2 div.sk-parallel-item:last-child::after {align-self: flex-start;width: 50%;}#sk-container-id-2 div.sk-parallel-item:only-child::after {width: 0;}#sk-container-id-2 div.sk-dashed-wrapped {border: 1px dashed gray;margin: 0 0.4em 0.5em 0.4em;box-sizing: border-box;padding-bottom: 0.4em;background-color: white;}#sk-container-id-2 div.sk-label label {font-family: monospace;font-weight: bold;display: inline-block;line-height: 1.2em;}#sk-container-id-2 div.sk-label-container {text-align: center;}#sk-container-id-2 div.sk-container {/* jupyter's `normalize.less` sets `[hidden] { display: none; }` but bootstrap.min.css set `[hidden] { display: none !important; }` so we also need the `!important` here to be able to override the default hidden behavior on the sphinx rendered scikit-learn.org. See: https://github.com/scikit-learn/scikit-learn/issues/21755 */display: inline-block !important;position: relative;}#sk-container-id-2 div.sk-text-repr-fallback {display: none;}</style><div id=\"sk-container-id-2\" class=\"sk-top-container\"><div class=\"sk-text-repr-fallback\"><pre>RandomForestRegressor(max_depth=5, n_estimators=150)</pre><b>In a Jupyter environment, please rerun this cell to show the HTML representation or trust the notebook. <br />On GitHub, the HTML representation is unable to render, please try loading this page with nbviewer.org.</b></div><div class=\"sk-container\" hidden><div class=\"sk-item\"><div class=\"sk-estimator sk-toggleable\"><input class=\"sk-toggleable__control sk-hidden--visually\" id=\"sk-estimator-id-2\" type=\"checkbox\" checked><label for=\"sk-estimator-id-2\" class=\"sk-toggleable__label sk-toggleable__label-arrow\">RandomForestRegressor</label><div class=\"sk-toggleable__content\"><pre>RandomForestRegressor(max_depth=5, n_estimators=150)</pre></div></div></div></div></div>"
            ]
          },
          "metadata": {},
          "execution_count": 31
        }
      ]
    },
    {
      "cell_type": "code",
      "source": [
        "#Prediksi pada data training dan test\n",
        "x_pred = model.predict(X_train_reshaped)\n",
        "y_pred = model.predict(X_test_reshaped)\n",
        "\n",
        "# Evaluasi model\n",
        "mse = mean_squared_error(y_test, y_pred)\n",
        "r2 = r2_score(y_test, y_pred)\n",
        "\n",
        "\n",
        "print(f\"Mean Squared Error : {mse: .2f}\")\n",
        "print(f\"R-squared: {r2: .2f}\")\n"
      ],
      "metadata": {
        "colab": {
          "base_uri": "https://localhost:8080/"
        },
        "id": "lTy4FnWRzc9M",
        "outputId": "2b64ccfc-c1a3-43cc-a0d7-f677b908c48c"
      },
      "execution_count": 32,
      "outputs": [
        {
          "output_type": "stream",
          "name": "stdout",
          "text": [
            "Mean Squared Error :  0.02\n",
            "R-squared:  0.71\n"
          ]
        }
      ]
    },
    {
      "cell_type": "code",
      "source": [
        "import matplotlib.pyplot as plt\n",
        "# Plot data aktual dan prediksi pada data pelatihan\n",
        "plt.scatter(X_train, y_train, color='black', label='Data Aktual')\n",
        "plt.plot(X_train, x_pred, color='red', label='Prediksi ETp', linewidth=1)\n",
        "plt.title('Data Aktual dan Prediksi ETp pada Data Pelatihan')\n",
        "plt.xlabel('X')\n",
        "plt.ylabel('y')\n",
        "plt.legend()\n",
        "plt.show()\n"
      ],
      "metadata": {
        "colab": {
          "base_uri": "https://localhost:8080/",
          "height": 472
        },
        "id": "FoA-sfSTYaKB",
        "outputId": "f0097118-2012-4749-b764-cd88dac21370"
      },
      "execution_count": 33,
      "outputs": [
        {
          "output_type": "display_data",
          "data": {
            "text/plain": [
              "<Figure size 640x480 with 1 Axes>"
            ],
            "image/png": "[encoded data removed]"
          },
          "metadata": {}
        }
      ]
    },
    {
      "cell_type": "code",
      "source": [
        "#Plot pada data test\n",
        "plt.scatter(X_test, y_test, color = 'black', label = 'Data Aktual')\n",
        "plt.plot(X_test, y_pred, color='blue', label='Prediksi ETp')\n",
        "plt.title('Validation Data Aktual dan Prediksi ETp')\n",
        "plt.xlabel('X')\n",
        "plt.ylabel('y')\n",
        "plt.legend()\n",
        "plt.show()"
      ],
      "metadata": {
        "colab": {
          "base_uri": "https://localhost:8080/",
          "height": 472
        },
        "id": "s45CT__kVuBC",
        "outputId": "1e746b1b-c23e-46e5-97b4-1bb5a647e84c"
      },
      "execution_count": 34,
      "outputs": [
        {
          "output_type": "display_data",
          "data": {
            "text/plain": [
              "<Figure size 640x480 with 1 Axes>"
            ],
            "image/png": "[encoded data removed]"
          },
          "metadata": {}
        }
      ]
    },
    {
      "cell_type": "code",
      "source": [],
      "metadata": {
        "id": "oqrUlv1qQPIb"
      },
      "execution_count": null,
      "outputs": []
    }
  ]
}