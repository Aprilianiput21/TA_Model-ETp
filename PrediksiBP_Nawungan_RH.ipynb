{
  "nbformat": 4,
  "nbformat_minor": 0,
  "metadata": {
    "colab": {
      "provenance": [],
      "authorship_tag": "ABX9TyP/wD+ps2qFF3Ks45BO4km1",
      "include_colab_link": true
    },
    "kernelspec": {
      "name": "python3",
      "display_name": "Python 3"
    },
    "language_info": {
      "name": "python"
    }
  },
  "cells": [
    {
      "cell_type": "markdown",
      "metadata": {
        "id": "view-in-github",
        "colab_type": "text"
      },
      "source": [
        "<a href=\"https://colab.research.google.com/github/Aprilianiput21/TA_Model-ETp/blob/main/PrediksiBP_Nawungan_RH.ipynb\" target=\"_parent\"><img src=\"https://colab.research.google.com/assets/colab-badge.svg\" alt=\"Open In Colab\"/></a>"
      ]
    },
    {
      "cell_type": "code",
      "execution_count": null,
      "metadata": {
        "id": "R_nnRVc8qkVr",
        "colab": {
          "base_uri": "https://localhost:8080/"
        },
        "outputId": "87dd64a6-7ed7-4ab9-f617-57c8694caa12"
      },
      "outputs": [
        {
          "output_type": "stream",
          "name": "stdout",
          "text": [
            "[0.06441156]\n"
          ]
        }
      ],
      "source": [
        "import numpy as np\n",
        "import joblib\n",
        "\n",
        "model =joblib.load('ModelBP_Nawungan_RH.joblib')\n",
        "\n",
        "data_baru = np.array([[70]])\n",
        "prediksi = model.predict(data_baru)\n",
        "\n",
        "\n",
        "print(prediksi)"
      ]
    }
  ]
}