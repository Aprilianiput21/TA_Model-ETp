{
  "nbformat": 4,
  "nbformat_minor": 0,
  "metadata": {
    "colab": {
      "provenance": [],
      "authorship_tag": "ABX9TyN62wZp/IOA/KBeFbXEYde4",
      "include_colab_link": true
    },
    "kernelspec": {
      "name": "python3",
      "display_name": "Python 3"
    },
    "language_info": {
      "name": "python"
    }
  },
  "cells": [
    {
      "cell_type": "markdown",
      "metadata": {
        "id": "view-in-github",
        "colab_type": "text"
      },
      "source": [
        "<a href=\"https://colab.research.google.com/github/Aprilianiput21/TA_Model-ETp/blob/main/PrediksiBP_Nawungan_T.ipynb\" target=\"_parent\"><img src=\"https://colab.research.google.com/assets/colab-badge.svg\" alt=\"Open In Colab\"/></a>"
      ]
    },
    {
      "cell_type": "code",
      "execution_count": 1,
      "metadata": {
        "id": "R_nnRVc8qkVr",
        "colab": {
          "base_uri": "https://localhost:8080/"
        },
        "outputId": "867b3416-1c07-4627-ec19-32b1492c3f19"
      },
      "outputs": [
        {
          "output_type": "stream",
          "name": "stdout",
          "text": [
            "[0.18386465]\n"
          ]
        }
      ],
      "source": [
        "import numpy as np\n",
        "import joblib\n",
        "\n",
        "model =joblib.load('ModelBP_Nawungan_T.joblib')\n",
        "\n",
        "data_baru = np.array([[28]])\n",
        "prediksi = model.predict(data_baru)\n",
        "\n",
        "\n",
        "print(prediksi)"
      ]
    }
  ]
}