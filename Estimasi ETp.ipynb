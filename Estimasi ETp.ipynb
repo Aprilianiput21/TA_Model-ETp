{
  "nbformat": 4,
  "nbformat_minor": 0,
  "metadata": {
    "colab": {
      "provenance": [],
      "toc_visible": true,
      "authorship_tag": "ABX9TyP0nRqExCBWH7R8K3osYgGS",
      "include_colab_link": true
    },
    "kernelspec": {
      "name": "python3",
      "display_name": "Python 3"
    },
    "language_info": {
      "name": "python"
    }
  },
  "cells": [
    {
      "cell_type": "markdown",
      "metadata": {
        "id": "view-in-github",
        "colab_type": "text"
      },
      "source": [
        "<a href=\"https://colab.research.google.com/github/Aprilianiput21/TA_Model-ETp/blob/main/Estimasi%20ETp.ipynb\" target=\"_parent\"><img src=\"https://colab.research.google.com/assets/colab-badge.svg\" alt=\"Open In Colab\"/></a>"
      ]
    },
    {
      "cell_type": "markdown",
      "source": [
        "# Estimasi ETp dengan Algoritma RF di Daerah Irigasi Tungkub\n",
        "\n",
        "menggunakan data masukan Radiasi Matahari\n"
      ],
      "metadata": {
        "id": "m9x849ikZBaQ"
      }
    },
    {
      "cell_type": "code",
      "execution_count": 19,
      "metadata": {
        "id": "R_nnRVc8qkVr",
        "colab": {
          "base_uri": "https://localhost:8080/"
        },
        "outputId": "74aed062-bf82-407b-8731-7da1a2cf20c1"
      },
      "outputs": [
        {
          "output_type": "stream",
          "name": "stdout",
          "text": [
            "Estimasi ETp Minimum : [-7.75857631e-05]\n",
            "Estimasi ETp Rata-Rata: [0.14565363]\n",
            "Estimasi ETp Maksimum : [0.97299627]\n"
          ]
        }
      ],
      "source": [
        "import numpy as np\n",
        "import joblib\n",
        "\n",
        "model =joblib.load('ModelRF_Tungkub_Rs.joblib')\n",
        "\n",
        "data_min = np.array([[0.60]])\n",
        "data_mean = np.array([[193.42]])\n",
        "data_max = np.array([[1276.90]])\n",
        "\n",
        "estimasi_data_min = model.predict(data_min)\n",
        "estimasi_data_mean = model.predict(data_mean)\n",
        "estimasi_data_max = model.predict(data_max)\n",
        "\n",
        "print('Estimasi ETp Minimum :', estimasi_data_min)\n",
        "print('Estimasi ETp Rata-Rata:', estimasi_data_mean)\n",
        "print('Estimasi ETp Maksimum :', estimasi_data_max)"
      ]
    },
    {
      "cell_type": "markdown",
      "source": [
        "# Estimasi ETp dengan Algoritma RF di Kebun Nawungan, Jogjakarta\n",
        "\n",
        "menggunakan data masukan Radiasi Matahari\n"
      ],
      "metadata": {
        "id": "ehjkkVfRZXil"
      }
    },
    {
      "cell_type": "code",
      "source": [
        "import numpy as np\n",
        "import joblib\n",
        "\n",
        "model =joblib.load('ModelRF_Tungkub_Rs.joblib')\n",
        "\n",
        "data_min = np.array([[0.00]])\n",
        "data_mean = np.array([[197.25]])\n",
        "data_max = np.array([[1114.19]])\n",
        "\n",
        "estimasi_data_min = model.predict(data_min)\n",
        "estimasi_data_mean = model.predict(data_mean)\n",
        "estimasi_data_max = model.predict(data_max)\n",
        "\n",
        "print('Estimasi ETp Minimum :', estimasi_data_min)\n",
        "print('Estimasi ETp Rata-Rata:', estimasi_data_mean)\n",
        "print('Estimasi ETp Maksimum :', estimasi_data_max)"
      ],
      "metadata": {
        "colab": {
          "base_uri": "https://localhost:8080/"
        },
        "id": "Ui8ZFcC3ZfyA",
        "outputId": "6ad9f959-ef5c-48ff-8251-2bac51cceea2"
      },
      "execution_count": 20,
      "outputs": [
        {
          "output_type": "stream",
          "name": "stdout",
          "text": [
            "Estimasi ETp Minimum : [-7.75857631e-05]\n",
            "Estimasi ETp Rata-Rata: [0.16277396]\n",
            "Estimasi ETp Maksimum : [0.89764203]\n"
          ]
        }
      ]
    }
  ]
}