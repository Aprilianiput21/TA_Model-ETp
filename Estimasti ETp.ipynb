{
  "nbformat": 4,
  "nbformat_minor": 0,
  "metadata": {
    "colab": {
      "provenance": [],
      "authorship_tag": "ABX9TyMnB2mPAdFhHohKH+pgpcbi",
      "include_colab_link": true
    },
    "kernelspec": {
      "name": "python3",
      "display_name": "Python 3"
    },
    "language_info": {
      "name": "python"
    }
  },
  "cells": [
    {
      "cell_type": "markdown",
      "metadata": {
        "id": "view-in-github",
        "colab_type": "text"
      },
      "source": [
        "<a href=\"https://colab.research.google.com/github/Aprilianiput21/TA_Model-ETp/blob/main/Estimasti%20ETp.ipynb\" target=\"_parent\"><img src=\"https://colab.research.google.com/assets/colab-badge.svg\" alt=\"Open In Colab\"/></a>"
      ]
    },
    {
      "cell_type": "markdown",
      "source": [
        "# Estimasi ETp dengan Algoritma RF di Daerah Irigasi Tungkub\n",
        "\n",
        "menggunakan data masukan Radiasi Matahari\n"
      ],
      "metadata": {
        "id": "m9x849ikZBaQ"
      }
    },
    {
      "cell_type": "code",
      "execution_count": 32,
      "metadata": {
        "id": "R_nnRVc8qkVr",
        "colab": {
          "base_uri": "https://localhost:8080/"
        },
        "outputId": "fcdab745-8496-41b9-beed-1686d1d428e9"
      },
      "outputs": [
        {
          "output_type": "stream",
          "name": "stdout",
          "text": [
            "Estimasi ETp Minimum : [-7.75857631e-05]\n",
            "Estimasi ETp Rata-Rata: [0.14565363]\n",
            "Estimasi ETp Maksimum : [0.97299627]\n"
          ]
        }
      ],
      "source": [
        "import numpy as np\n",
        "import joblib\n",
        "\n",
        "model =joblib.load('ModelRF_Tungkub_Rs.joblib')\n",
        "\n",
        "data_min = np.array([[0.60]])\n",
        "data_mean = np.array([[193.42]])\n",
        "data_max = np.array([[1276.90]])\n",
        "\n",
        "estimasi_data_min = model.predict(data_min)\n",
        "estimasi_data_mean = model.predict(data_mean)\n",
        "estimasi_data_max = model.predict(data_max)\n",
        "\n",
        "print('Estimasi ETp Minimum :', estimasi_data_min)\n",
        "print('Estimasi ETp Rata-Rata:', estimasi_data_mean)\n",
        "print('Estimasi ETp Maksimum :', estimasi_data_max)"
      ]
    },
    {
      "cell_type": "markdown",
      "source": [
        "# Estimasi ETp dengan Algoritma RF di Kebun Nawungan, Jogjakarta\n",
        "\n",
        "menggunakan data masukan Radiasi Matahari\n"
      ],
      "metadata": {
        "id": "ehjkkVfRZXil"
      }
    },
    {
      "cell_type": "code",
      "source": [
        "import numpy as np\n",
        "import joblib\n",
        "\n",
        "model =joblib.load('ModelRF_Nawungan_Rs.joblib')\n",
        "\n",
        "data_min = np.array([[0.00]])\n",
        "data_mean = np.array([[197.25]])\n",
        "data_max = np.array([[1114.19]])\n",
        "\n",
        "estimasi_data_min = model.predict(data_min)\n",
        "estimasi_data_mean = model.predict(data_mean)\n",
        "estimasi_data_max = model.predict(data_max)\n",
        "\n",
        "print('Estimasi ETp Minimum :', estimasi_data_min)\n",
        "print('Estimasi ETp Rata-Rata:', estimasi_data_mean)\n",
        "print('Estimasi ETp Maksimum :', estimasi_data_max)"
      ],
      "metadata": {
        "colab": {
          "base_uri": "https://localhost:8080/"
        },
        "id": "Ui8ZFcC3ZfyA",
        "outputId": "19d121aa-2064-4413-a49e-a9936750480b"
      },
      "execution_count": 33,
      "outputs": [
        {
          "output_type": "stream",
          "name": "stdout",
          "text": [
            "Estimasi ETp Minimum : [0.00054491]\n",
            "Estimasi ETp Rata-Rata: [0.20426926]\n",
            "Estimasi ETp Maksimum : [1.00401075]\n"
          ]
        }
      ]
    },
    {
      "cell_type": "markdown",
      "source": [
        "# Estimasi ETp dengan Algoritma BP di Daerah Irigasi Tungkub\n",
        "\n",
        "menggunakan data masukan Radiasi Matahari\n"
      ],
      "metadata": {
        "id": "l_2NYWw9arzk"
      }
    },
    {
      "cell_type": "code",
      "source": [
        "import numpy as np\n",
        "import joblib\n",
        "\n",
        "model =joblib.load('ModelBP_Tungkub_Rs.joblib')\n",
        "\n",
        "data_min = np.array([[0.60]])\n",
        "data_mean = np.array([[193.42]])\n",
        "data_max = np.array([[1276.90]])\n",
        "\n",
        "estimasi_data_min = model.predict(data_min)\n",
        "estimasi_data_mean = model.predict(data_mean)\n",
        "estimasi_data_max = model.predict(data_max)\n",
        "\n",
        "print('Estimasi ETp Minimum :', estimasi_data_min)\n",
        "print('Estimasi ETp Rata-Rata:', estimasi_data_mean)\n",
        "print('Estimasi ETp Maksimum :', estimasi_data_max)"
      ],
      "metadata": {
        "colab": {
          "base_uri": "https://localhost:8080/"
        },
        "id": "HsNJw66raxfr",
        "outputId": "cfdba461-b755-4165-e6c3-3def8152fcd5"
      },
      "execution_count": 34,
      "outputs": [
        {
          "output_type": "stream",
          "name": "stdout",
          "text": [
            "Estimasi ETp Minimum : [-0.00011389]\n",
            "Estimasi ETp Rata-Rata: [0.15006615]\n",
            "Estimasi ETp Maksimum : [1.01526732]\n"
          ]
        }
      ]
    },
    {
      "cell_type": "markdown",
      "source": [
        "# Estimasi ETp dengan Algoritma BP di Kebun Nawungan\n",
        "\n",
        "menggunakan data masukan Radiasi Matahari\n"
      ],
      "metadata": {
        "id": "6e7wcmnka_Cc"
      }
    },
    {
      "cell_type": "code",
      "source": [
        "import numpy as np\n",
        "import joblib\n",
        "\n",
        "model =joblib.load('ModelBP_Nawungan_Rs.joblib')\n",
        "\n",
        "data_min = np.array([[0.00]])\n",
        "data_mean = np.array([[197.25]])\n",
        "data_max = np.array([[1114.19]])\n",
        "\n",
        "estimasi_data_min = model.predict(data_min)\n",
        "estimasi_data_mean = model.predict(data_mean)\n",
        "estimasi_data_max = model.predict(data_max)\n",
        "\n",
        "print('Estimasi ETp Minimum :', estimasi_data_min)\n",
        "print('Estimasi ETp Rata-Rata:', estimasi_data_mean)\n",
        "print('Estimasi ETp Maksimum :', estimasi_data_max)"
      ],
      "metadata": {
        "colab": {
          "base_uri": "https://localhost:8080/"
        },
        "id": "Z--ZD_WubHec",
        "outputId": "b34e9023-1c18-40fa-84d4-ebc8edf372d2"
      },
      "execution_count": 35,
      "outputs": [
        {
          "output_type": "stream",
          "name": "stdout",
          "text": [
            "Estimasi ETp Minimum : [0.00022455]\n",
            "Estimasi ETp Rata-Rata: [0.19039401]\n",
            "Estimasi ETp Maksimum : [1.03775058]\n"
          ]
        }
      ]
    }
  ]
}