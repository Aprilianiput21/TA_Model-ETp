{
  "nbformat": 4,
  "nbformat_minor": 0,
  "metadata": {
    "colab": {
      "provenance": [],
      "authorship_tag": "ABX9TyOs/7kxblO+x67h6Q9RZfCP",
      "include_colab_link": true
    },
    "kernelspec": {
      "name": "python3",
      "display_name": "Python 3"
    },
    "language_info": {
      "name": "python"
    }
  },
  "cells": [
    {
      "cell_type": "markdown",
      "metadata": {
        "id": "view-in-github",
        "colab_type": "text"
      },
      "source": [
        "<a href=\"https://colab.research.google.com/github/Aprilianiput21/TA_Model-ETp/blob/main/PrediksiRF_Tungkub_RH.ipynb\" target=\"_parent\"><img src=\"https://colab.research.google.com/assets/colab-badge.svg\" alt=\"Open In Colab\"/></a>"
      ]
    },
    {
      "cell_type": "code",
      "execution_count": 3,
      "metadata": {
        "id": "R_nnRVc8qkVr",
        "colab": {
          "base_uri": "https://localhost:8080/"
        },
        "outputId": "2c60447b-90dc-4be8-a5f2-be17fe3d3606"
      },
      "outputs": [
        {
          "output_type": "stream",
          "name": "stdout",
          "text": [
            "[0.47735098]\n"
          ]
        }
      ],
      "source": [
        "import numpy as np\n",
        "import joblib\n",
        "\n",
        "model =joblib.load('ModelRF_Tungkub_RH.joblib')\n",
        "\n",
        "data_baru = np.array([[70]])\n",
        "prediksi = model.predict(data_baru)\n",
        "\n",
        "print(prediksi)"
      ]
    }
  ]
}